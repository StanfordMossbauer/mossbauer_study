{
 "cells": [
  {
   "cell_type": "code",
   "execution_count": 4,
   "metadata": {},
   "outputs": [],
   "source": [
    "import numpy as np\n",
    "from scipy.special import jv\n",
    "import xraydb \n",
    "from datetime import datetime\n",
    "import matplotlib.pyplot as plt\n",
    "from mossbauer_analysis.mossbauer_theory import CobaltRhodium, CobaltFe, KFeCy, alphaFe, Mossbauer    #import classes for sources, absorbers, and the mossbauer transmission spectrum"
   ]
  },
  {
   "cell_type": "code",
   "execution_count": null,
   "metadata": {},
   "outputs": [],
   "source": [
    "#constants and parameters\n",
    "hbar = 1.0545718e-34 # J.s\n",
    "h = 6.62607015e-34 # J.s\n",
    "c = 2.99792458e8 # m/s\n",
    "k = 1.380649e-23 # J/K\n",
    "T = 300 # K\n",
    "e = 1.602176634e-19 # J\n",
    "kB = 1.38e-23\n",
    "\n",
    "#mossbauer parameters\n",
    "Emos_ev = 14.413e3 # keV\n",
    "Emos = Emos_ev * e # J\n",
    "Gamma_mos_ev = 4.7e-9\n",
    "Gamma_mos = Gamma_mos_ev * e # J\n",
    "lambda_mos = h * c / (Emos) # \n",
    "k_mos = 2 * np.pi / lambda_mos \n",
    "\n",
    "n_mos = 1e8 #photns per second\n",
    "#lambda_mos/(1e-8* 8 * np.pi* 1e8) # m\n",
    "\n",
    "#saw parameters\n",
    "lambda_saw = 32e-6 # mb\n",
    "v_s = 3091 # m/s\n",
    "k_saw = 2 * np.pi / lambda_saw # m^-1\n",
    "nu_saw_theory = v_s/lambda_saw\n",
    "nu_saw = 97.9e6 # MHz\n",
    "Omega_saw = 2 * np.pi * nu_saw\n",
    "rho_quartz = 2650 # kg/m^3\n",
    "w = 1e-3 # m\n",
    "L = 4e-3\n",
    "\n",
    "\n"
   ]
  },
  {
   "cell_type": "code",
   "execution_count": 27,
   "metadata": {},
   "outputs": [
    {
     "data": {
      "text/plain": [
       "(8.421600656775345,)"
      ]
     },
     "execution_count": 27,
     "metadata": {},
     "output_type": "execute_result"
    }
   ],
   "source": [
    "# units conversions\n",
    "\n",
    "mms_to_ev = lambda x: x/1000*Emos_ev/c\n",
    "ev_to_mms = lambda x: x*1000/Emos_ev*c\n",
    "\n",
    "\n",
    "hz_to_mms = lambda x: x*h*c/e/Emos_ev*1000\n",
    "mms_to_hz = lambda x: x/h/c*e*Emos_ev/1000\n",
    "\n",
    "ev_to_hz  = lambda x: x * e / h\n",
    "hz_to_ev = lambda x: x * h / e\n",
    "\n",
    "#source linewidth\n",
    "ev_to_hz(7e-9)/1e6, \n",
    "\n",
    "#device spacing\n",
    "hz_to_mms(97.9e6),"
   ]
  },
  {
   "cell_type": "code",
   "execution_count": null,
   "metadata": {},
   "outputs": [],
   "source": [
    "\n",
    "h*nu_saw/e/Emos_ev*c, Gamma_mos_ev\n",
    "\n",
    "#2.1e-3*e*Emos_ev/c/h/1e6\n",
    "##\n",
    "\n",
    "#mm/s to ev\n",
    "8.4e-3*Emos_ev/c, c/Emos_ev*1e-9*1e3\n",
    "\n",
    "#1/140e-9/1e6\n",
    "hbar/Gamma_mos \n",
    "h*1e6/e/Emos_ev, Gamma_mos_ev\n",
    "\n",
    "np.sqrt(hbar/(2*rho_quartz*v_s*L*w))\n",
    "\n",
    "kB*T/(hbar*Omega_saw)/1e4\n",
    "h*1e6/e/Emos_ev"
   ]
  },
  {
   "cell_type": "code",
   "execution_count": 11,
   "metadata": {},
   "outputs": [
    {
     "data": {
      "text/plain": [
       "2.896897606192853e-14"
      ]
     },
     "execution_count": 11,
     "metadata": {},
     "output_type": "execute_result"
    }
   ],
   "source": [
    "#For silicon nitride membranes\n",
    "\n",
    "omega_mem = 2*np.pi*1e6\n",
    "m_mem = 10e-15 \n",
    "\n",
    "np.sqrt(hbar/(2*m_mem*omega_mem))"
   ]
  },
  {
   "cell_type": "markdown",
   "metadata": {},
   "source": [
    "## Mossbauer total rate"
   ]
  },
  {
   "cell_type": "code",
   "execution_count": 27,
   "metadata": {},
   "outputs": [
    {
     "data": {
      "text/plain": [
       "(2232.689264809235,\n",
       " 1344.9935330176115,\n",
       " 511.0975425466924,\n",
       " 376.5981892449313,\n",
       " 2.1803606101652684)"
      ]
     },
     "execution_count": 27,
     "metadata": {},
     "output_type": "execute_result"
    }
   ],
   "source": [
    "activity_ci = 30e-3\n",
    "activity_bq = 3.7e10 *activity_ci\n",
    "122 = 0.855\n",
    "alpha = 8.44\n",
    "relative_intensity_14 = relative_intensity_122*1/(1+alpha)\n",
    "rate_14 = activity_bq * relative_intensity_14\n",
    "area = 4e-3*1e-3\n",
    "distance = 0.10\n",
    "eta_solid_angle = area/(4*np.pi*distance**2)\n",
    "eta_quartz = np.exp(-xraydb.material_mu('quartz', 14.4e3)*500e-6*100)\n",
    "actual_rate_14 = rate_14*eta_solid_angle*eta_quartz\n",
    "actual_rate_14*(1+0.38+0.28), actual_rate_14 ,actual_rate_14*0.38,actual_rate_14*0.28,actual_rate_14*(1+0.38+0.28)/1024\n"
   ]
  },
  {
   "cell_type": "markdown",
   "metadata": {},
   "source": [
    "## SAW power losses"
   ]
  },
  {
   "cell_type": "code",
   "execution_count": 51,
   "metadata": {},
   "outputs": [
    {
     "data": {
      "text/plain": [
       "(-18.441633430222492, -18.2)"
      ]
     },
     "execution_count": 51,
     "metadata": {},
     "output_type": "execute_result"
    }
   ],
   "source": [
    "S22_res_db = -2.35\n",
    "S22_0_db =  -0.67\n",
    "\n",
    "S21_res_db = -18.2\n",
    "S21_0_db = -80\n",
    "\n",
    "\n",
    "S22_res = 10**(S22_res_db/20)\n",
    "S22_0 = 10**(S22_0_db/20)   \n",
    "S21_res = 10**(S21_res_db/20)\n",
    "S21_0 = 10**(S21_0_db/20) \n",
    "eta_r = 0.36\n",
    "\n",
    "Psaw = S22_0**2 - S22_res**2\n",
    "\n",
    "Pout = (Psaw*(1-eta_r**2))**2/4\n",
    "\n",
    "\n",
    "\n",
    "10*np.log10(Pout), S21_res_db\n",
    "#Pout, S21_res, S22_0\n"
   ]
  },
  {
   "cell_type": "code",
   "execution_count": null,
   "metadata": {},
   "outputs": [],
   "source": []
  },
  {
   "cell_type": "code",
   "execution_count": 44,
   "metadata": {},
   "outputs": [
    {
     "data": {
      "text/plain": [
       "(0.5821032177708714,\n",
       " 0.8570378452303696,\n",
       " 0.27493462745949826,\n",
       " 0.4178967822291286)"
      ]
     },
     "execution_count": 44,
     "metadata": {},
     "output_type": "execute_result"
    }
   ],
   "source": [
    "S22_res,S22_0, S22_0 - S22_res,1-(S22_res)\n"
   ]
  },
  {
   "cell_type": "code",
   "execution_count": 1,
   "metadata": {},
   "outputs": [
    {
     "ename": "NameError",
     "evalue": "name 'activity_bq' is not defined",
     "output_type": "error",
     "traceback": [
      "\u001b[1;31m---------------------------------------------------------------------------\u001b[0m",
      "\u001b[1;31mNameError\u001b[0m                                 Traceback (most recent call last)",
      "\u001b[1;32m~\\AppData\\Local\\Temp\\ipykernel_12548\\6865831.py\u001b[0m in \u001b[0;36m<module>\u001b[1;34m\u001b[0m\n\u001b[1;32m----> 1\u001b[1;33m \u001b[0mactivity_bq\u001b[0m\u001b[1;33m/\u001b[0m\u001b[1;36m1e9\u001b[0m\u001b[1;33m,\u001b[0m\u001b[0mrelative_intensity_14\u001b[0m\u001b[1;33m,\u001b[0m\u001b[0meta_solid_angle\u001b[0m\u001b[1;33m*\u001b[0m\u001b[0meta_quartz\u001b[0m\u001b[1;33m\u001b[0m\u001b[1;33m\u001b[0m\u001b[0m\n\u001b[0m\u001b[0;32m      2\u001b[0m \u001b[1;33m(\u001b[0m\u001b[1;36m0.38\u001b[0m\u001b[1;33m+\u001b[0m\u001b[1;36m0.28\u001b[0m\u001b[1;33m)\u001b[0m\u001b[1;33m/\u001b[0m\u001b[1;33m(\u001b[0m\u001b[1;36m1\u001b[0m\u001b[1;33m+\u001b[0m\u001b[1;36m0.38\u001b[0m\u001b[1;33m+\u001b[0m\u001b[1;36m0.28\u001b[0m\u001b[1;33m)\u001b[0m\u001b[1;33m\u001b[0m\u001b[1;33m\u001b[0m\u001b[0m\n",
      "\u001b[1;31mNameError\u001b[0m: name 'activity_bq' is not defined"
     ]
    }
   ],
   "source": [
    "activity_bq/1e9,relative_intensity_14,eta_solid_angle*eta_quartz \n",
    "(0.38+0.28)/(1+0.38+0.28)"
   ]
  },
  {
   "cell_type": "code",
   "execution_count": 7,
   "metadata": {},
   "outputs": [
    {
     "data": {
      "text/plain": [
       "2.948200544649535e-66"
      ]
     },
     "execution_count": 7,
     "metadata": {},
     "output_type": "execute_result"
    }
   ],
   "source": [
    "Sf = (hbar*k)**2*n_mos\n",
    "rho = 2620 # kg/m^3\n",
    "vs = 3000 # m/s\n",
    "chi = 1/(2*np.pi*100e6*rho*vs)\n",
    "Sx = Sf * chi**2\n",
    "\n",
    "Psaw = Sx*1e6\n",
    "np.sqrt(Psaw)"
   ]
  },
  {
   "cell_type": "code",
   "execution_count": 105,
   "metadata": {},
   "outputs": [],
   "source": [
    "def lorentzian1(p, x):\n",
    "\n",
    "    c0, x0, fullwidth, rate = p\n",
    "    \n",
    "    return rate*(1 -  c0*(fullwidth/2)**2 / ((x - x0)**2 + (fullwidth/2)**2))\n"
   ]
  },
  {
   "cell_type": "code",
   "execution_count": 115,
   "metadata": {},
   "outputs": [
    {
     "data": {
      "text/plain": [
       "(0.13732785128896877,\n",
       " 0.11900635987540067,\n",
       " 109.15631959713637,\n",
       " 0.4123607978830409,\n",
       " 0.2916666666666667)"
      ]
     },
     "execution_count": 115,
     "metadata": {},
     "output_type": "execute_result"
    },
    {
     "data": {
      "image/png": "[encoded data removed]",
      "text/plain": [
       "<Figure size 640x480 with 1 Axes>"
      ]
     },
     "metadata": {},
     "output_type": "display_data"
    }
   ],
   "source": [
    "source = CobaltRhodium()\n",
    "source.Gamma_ev = 8e-9\n",
    "source.update_params()\n",
    "\n",
    "absorber = KFeCy()\n",
    "absorber.Gamma_ev = 6e-9\n",
    "absorber.update_params()\n",
    "\n",
    "moss = Mossbauer(source, absorber)\n",
    "\n",
    "v = np.linspace(-10,10,1000)\n",
    "norm = moss.source.mossbauer_photon_rate\n",
    "t = moss.total_transmission_rate1(v)/norm\n",
    "\n",
    "\n",
    "\n",
    "plt.plot(v, t, label = 'Fe')\n",
    "\n",
    "plt.axhline((1-((t.max()-t.min())/2/t.max()))*moss.non_resonant_attenuation())\n",
    "plt.axvline(-(source.Gamma + absorber.Gamma)/2)\n",
    "plt.axvline((source.Gamma + absorber.Gamma)/2)\n",
    "\n",
    "plt.axhline((1 - source.fs)*moss.non_resonant_attenuation(),color = 'r')\n",
    "plt.axhline((1 - source.fs*moss.epsilon(absorber.thickness_normalized))*moss.non_resonant_attenuation(),color = 'g')\n",
    "\n",
    "plt.axhline((1 - source.fs*moss.epsilon(absorber.thickness_normalized))*moss.non_resonant_attenuation(),color = 'g')\n",
    "\n",
    "\n",
    "plt.ylim(0,1)\n",
    "plt.xlim(-1,1)\n",
    "\n",
    "total_width = absorber.Gamma+source.Gamma\n",
    "\n",
    "B = 0.5\n",
    "vis = moss.epsilon(absorber.thickness_normalized)*source.fs\n",
    "\n",
    "p = [(t.max()-t.min())/(t.max()), 0, total_width, t.max()]\n",
    "plt.plot(v, lorentzian1(p,v))\n",
    "\n",
    "vis*(1-B), (t.max()-t.min())/(t.max())*(1-B), source.mossbauer_photon_rate/1e6, moss.non_resonant_attenuation(), total_width\n",
    "\n"
   ]
  },
  {
   "cell_type": "code",
   "execution_count": 102,
   "metadata": {},
   "outputs": [
    {
     "data": {
      "text/plain": [
       "(0.4123482405205477, 0.3001022648015672)"
      ]
     },
     "execution_count": 102,
     "metadata": {},
     "output_type": "execute_result"
    }
   ],
   "source": [
    "t.max(), t.min()"
   ]
  },
  {
   "cell_type": "code",
   "execution_count": 125,
   "metadata": {},
   "outputs": [
    {
     "data": {
      "text/plain": [
       "(0.24343652099018412,\n",
       " 0.21718362930490587,\n",
       " 109.15497012539117,\n",
       " 0.28477637176683074,\n",
       " 0.2916666666666667)"
      ]
     },
     "execution_count": 125,
     "metadata": {},
     "output_type": "execute_result"
    },
    {
     "data": {
      "image/png": "[encoded data removed]",
      "text/plain": [
       "<Figure size 640x480 with 1 Axes>"
      ]
     },
     "metadata": {},
     "output_type": "display_data"
    }
   ],
   "source": [
    "source = CobaltRhodium()\n",
    "source.Gamma_ev = 8e-9\n",
    "source.update_params()\n",
    "\n",
    "absorber = alphaFe()\n",
    "absorber.Gamma_ev = 6e-9\n",
    "absorber.thickness_m = 25e-6  # thickness in m\n",
    "absorber.abundance = 0.0212\n",
    "absorber.update_params()\n",
    "\n",
    "moss = Mossbauer(source, absorber)\n",
    "\n",
    "v = np.linspace(-10,10,1000)\n",
    "t = moss.total_transmission_rate1(v)\n",
    "norm = moss.source.mossbauer_photon_rate\n",
    "\n",
    "\n",
    "plt.plot(v, t/norm, label = 'Fe')\n",
    "\n",
    "plt.axhline((1-((t.max()-t.min())/2/t.max()))*moss.non_resonant_attenuation())\n",
    "plt.axvline(-(source.Gamma + absorber.Gamma)/2)\n",
    "plt.axvline((source.Gamma + absorber.Gamma)/2)\n",
    "\n",
    "plt.axhline((1 - source.fs)*moss.non_resonant_attenuation(),color = 'r')\n",
    "plt.axhline((1 - source.fs*moss.epsilon(absorber.thickness_normalized*3/12))*moss.non_resonant_attenuation(),color = 'g')\n",
    "\n",
    "\n",
    "\n",
    "plt.ylim(0,1)\n",
    "plt.xlim(-10,10)\n",
    "\n",
    "total_width = absorber.Gamma+source.Gamma\n",
    "\n",
    "B = 0.5\n",
    "vis = moss.epsilon(absorber.thickness_normalized*3/12)*source.fs*(1-B)\n",
    "vis, (t.max()-t.min())/(t.max())*(1-B), source.mossbauer_photon_rate/1e6, moss.non_resonant_attenuation(), total_width"
   ]
  },
  {
   "cell_type": "code",
   "execution_count": 90,
   "metadata": {},
   "outputs": [
    {
     "data": {
      "text/plain": [
       "[<matplotlib.lines.Line2D at 0x28eba280e50>]"
      ]
     },
     "execution_count": 90,
     "metadata": {},
     "output_type": "execute_result"
    },
    {
     "data": {
      "image/png": "[encoded data removed]",
      "text/plain": [
       "<Figure size 640x480 with 1 Axes>"
      ]
     },
     "metadata": {},
     "output_type": "display_data"
    }
   ],
   "source": [
    "p = [-0.2, 0, 1, 1]\n",
    "plt.plot(v, lorentzian1(p,v))"
   ]
  },
  {
   "cell_type": "code",
   "execution_count": 109,
   "metadata": {},
   "outputs": [
    {
     "data": {
      "text/plain": [
       "0.2375"
      ]
     },
     "execution_count": 109,
     "metadata": {},
     "output_type": "execute_result"
    }
   ],
   "source": [
    "0.19*1.25"
   ]
  },
  {
   "cell_type": "code",
   "execution_count": null,
   "metadata": {},
   "outputs": [],
   "source": []
  }
 ],
 "metadata": {
  "kernelspec": {
   "display_name": "base",
   "language": "python",
   "name": "python3"
  },
  "language_info": {
   "codemirror_mode": {
    "name": "ipython",
    "version": 3
   },
   "file_extension": ".py",
   "mimetype": "text/x-python",
   "name": "python",
   "nbconvert_exporter": "python",
   "pygments_lexer": "ipython3",
   "version": "3.9.13"
  }
 },
 "nbformat": 4,
 "nbformat_minor": 4
}
