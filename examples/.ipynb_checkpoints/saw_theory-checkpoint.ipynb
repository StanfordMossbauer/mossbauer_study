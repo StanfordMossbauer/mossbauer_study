{
 "cells": [
  {
   "cell_type": "code",
   "execution_count": 3,
   "metadata": {},
   "outputs": [],
   "source": [
    "import numpy as np\n",
    "from scipy.special import jv\n",
    "import xraydb \n",
    "from datetime import datetime\n",
    "import matplotlib.pyplot as plt"
   ]
  },
  {
   "cell_type": "code",
   "execution_count": null,
   "metadata": {},
   "outputs": [
    {
     "data": {
      "text/plain": [
       "24.390204866544014"
      ]
     },
     "execution_count": 36,
     "metadata": {},
     "output_type": "execute_result"
    }
   ],
   "source": [
    "#constants and parameters\n",
    "hbar = 1.0545718e-34 # J.s\n",
    "h = 6.62607015e-34 # J.s\n",
    "c = 2.99792458e8 # m/s\n",
    "k = 1.380649e-23 # J/K\n",
    "T = 300 # K\n",
    "e = 1.602176634e-19 # J\n",
    "\n",
    "#mossbauer parameters\n",
    "Emos_ev = 14.4e3 # keV\n",
    "Emos = Emos_ev * e # J\n",
    "Gamma_mos_ev = 4.7e-9\n",
    "Gamma_mos = Gamma_mos_ev * e # J\n",
    "lambda_mos = h * c / (Emos) # \n",
    "k_mos = 2 * np.pi / lambda_mos \n",
    "\n",
    "n_mos = 1e8 #photns per second\n",
    "#lambda_mos/(1e-8* 8 * np.pi* 1e8) # m\n",
    "\n",
    "#saw parameters\n",
    "lambda_saw = 32e-6 # m\n",
    "v_s = 3091 # m/s\n",
    "k_saw = 2 * np.pi / lambda_saw # m^-1\n",
    "nu_saw_theory = v_s/lambda_saw\n",
    "nu_saw = 97.6e6 # MHz\n",
    "Omega_saw = 2 * np.pi * nu_saw\n",
    "rho_quartz = 2650 # kg/m^3\n",
    "w = 2e-3 # m\n",
    "L = 4e-3\n",
    "\n",
    "\n",
    "h*nu_saw/e/Emos_ev*c, Gamma_mos_ev\n",
    "\n",
    "2.1e-3*e*Emos_ev/c/h/1e6\n",
    "\n"
   ]
  },
  {
   "cell_type": "code",
   "execution_count": 22,
   "metadata": {},
   "outputs": [
    {
     "data": {
      "text/plain": [
       "1.5582953016163867e-32"
      ]
     },
     "execution_count": 22,
     "metadata": {},
     "output_type": "execute_result"
    }
   ],
   "source": [
    "Sf = (hbar*k)**2*n_gamma\n",
    "rho = 2620 # kg/m^3\n",
    "vs = 3000 # m/s\n",
    "chi = 1/(2*np.pi*100e6*rho*vs)\n",
    "Sx = Sf * chi**2\n",
    "\n",
    "Psaw = Sx*1e6\n",
    "np.sqrt(Psaw)"
   ]
  },
  {
   "cell_type": "code",
   "execution_count": 32,
   "metadata": {},
   "outputs": [
    {
     "data": {
      "text/plain": [
       "0.00034722222222222224"
      ]
     },
     "execution_count": 32,
     "metadata": {},
     "output_type": "execute_result"
    }
   ],
   "source": [
    "30/24/3600\n"
   ]
  },
  {
   "cell_type": "code",
   "execution_count": null,
   "metadata": {},
   "outputs": [],
   "source": []
  }
 ],
 "metadata": {
  "kernelspec": {
   "display_name": "base",
   "language": "python",
   "name": "python3"
  },
  "language_info": {
   "codemirror_mode": {
    "name": "ipython",
    "version": 3
   },
   "file_extension": ".py",
   "mimetype": "text/x-python",
   "name": "python",
   "nbconvert_exporter": "python",
   "pygments_lexer": "ipython3",
   "version": "3.9.13"
  }
 },
 "nbformat": 4,
 "nbformat_minor": 2
}
